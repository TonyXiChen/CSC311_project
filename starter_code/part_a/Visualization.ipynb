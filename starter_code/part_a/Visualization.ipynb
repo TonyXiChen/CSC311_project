{
 "cells": [
  {
   "cell_type": "code",
   "execution_count": null,
   "metadata": {
    "collapsed": true
   },
   "outputs": [],
   "source": [
    "from neural_network import AutoEncoder, train, load_data\n",
    "import matplotlib.pyplot as plt\n",
    "import torch"
   ]
  },
  {
   "cell_type": "code",
   "execution_count": null,
   "outputs": [],
   "source": [
    "print('Hello!')\n",
    "m, n = 542, 1774\n",
    "print(m, n)"
   ],
   "metadata": {
    "collapsed": false
   }
  },
  {
   "cell_type": "code",
   "execution_count": null,
   "outputs": [],
   "source": [
    "train = torch.ones((m, n))\n",
    "print(train)"
   ],
   "metadata": {
    "collapsed": false
   }
  },
  {
   "cell_type": "code",
   "execution_count": 1,
   "outputs": [
    {
     "ename": "NameError",
     "evalue": "name 'm' is not defined",
     "output_type": "error",
     "traceback": [
      "\u001B[1;31m---------------------------------------------------------------------------\u001B[0m",
      "\u001B[1;31mNameError\u001B[0m                                 Traceback (most recent call last)",
      "Cell \u001B[1;32mIn [1], line 1\u001B[0m\n\u001B[1;32m----> 1\u001B[0m part_size \u001B[38;5;241m=\u001B[39m \u001B[43mm\u001B[49m \u001B[38;5;241m*\u001B[39m n \u001B[38;5;241m/\u001B[39m\u001B[38;5;241m/\u001B[39m \u001B[38;5;241m3\u001B[39m\n\u001B[0;32m      3\u001B[0m indices \u001B[38;5;241m=\u001B[39m torch\u001B[38;5;241m.\u001B[39mrandperm(m \u001B[38;5;241m*\u001B[39m n)\n\u001B[0;32m      5\u001B[0m \u001B[38;5;66;03m# Generate three masks that form a partition of the tensor\u001B[39;00m\n",
      "\u001B[1;31mNameError\u001B[0m: name 'm' is not defined"
     ]
    }
   ],
   "source": [
    "part_size = m * n // 3\n",
    "\n",
    "indices = torch.randperm(m * n)\n",
    "\n",
    "# Generate three masks that form a partition of the tensor\n",
    "mask1 = torch.zeros((m, n))\n",
    "mask1.view(-1)[indices[:part_size]] = 1\n",
    "mask2 = torch.zeros((m, n))\n",
    "mask2.view(-1)[indices[part_size:2*part_size]] = 1\n",
    "mask3 = torch.zeros((m, n))\n",
    "mask3.view(-1)[indices[2*part_size:]] = 1\n",
    "\n",
    "# Print the masks\n",
    "# print(\"Mask 1:\")\n",
    "# print(mask1)\n",
    "# print(\"Mask 2:\")\n",
    "# print(mask2)\n",
    "# print(\"Mask 3:\")\n",
    "# print(mask3)\n",
    "\n",
    "masks = [mask1, mask2, mask3]\n",
    "\n",
    "rslt = mask1 + mask2 + mask3\n",
    "\n",
    "plt.figure(figsize=(15, 4))\n",
    "for i in range(3):\n",
    "    plt.subplot(1, 3, i+1)\n",
    "    plt.imshow(masks[i])\n",
    "plt.show()\n",
    "\n",
    "plt.imshow(rslt)\n",
    "plt.show()"
   ],
   "metadata": {
    "collapsed": false
   }
  },
  {
   "cell_type": "code",
   "execution_count": null,
   "outputs": [],
   "source": [],
   "metadata": {
    "collapsed": false
   }
  }
 ],
 "metadata": {
  "kernelspec": {
   "display_name": "Python 3",
   "language": "python",
   "name": "python3"
  },
  "language_info": {
   "codemirror_mode": {
    "name": "ipython",
    "version": 2
   },
   "file_extension": ".py",
   "mimetype": "text/x-python",
   "name": "python",
   "nbconvert_exporter": "python",
   "pygments_lexer": "ipython2",
   "version": "2.7.6"
  }
 },
 "nbformat": 4,
 "nbformat_minor": 0
}
