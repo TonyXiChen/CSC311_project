{
 "cells": [
  {
   "cell_type": "code",
   "execution_count": 1,
   "metadata": {
    "collapsed": true
   },
   "outputs": [],
   "source": [
    "import numpy as np\n",
    "import pandas as pd\n",
    "import torch\n",
    "from part_a.item_response import *\n",
    "from part_a.neural_network import *\n",
    "from utils import *"
   ]
  },
  {
   "cell_type": "code",
   "execution_count": 2,
   "outputs": [],
   "source": [
    "our_model_val = np.array([0.6943268416596104, 0.7152130962461191, 0.7162009596387242,\n",
    "                          0.7241038667795653, 0.7245272368049676, 0.7200112898673441,\n",
    "                          0.7177533163985323, 0.7252328535139713, 0.7243861134631668,\n",
    "                          0.7250917301721704, 0.727490826982783, 0.7273497036409822,\n",
    "                          0.7263618402483771, 0.7283375670335873, 0.72692633361558,\n",
    "                          0.7300310471351962, 0.7310189105278013, 0.7266440869319786,\n",
    "                          0.7252328535139713, 0.7301721704769969])"
   ],
   "metadata": {
    "collapsed": false
   }
  },
  {
   "cell_type": "code",
   "execution_count": 3,
   "outputs": [],
   "source": [
    "train_data = load_train_csv(\"data\")\n",
    "sparse_matrix = load_train_sparse(\"data\")\n",
    "val_data = load_valid_csv(\"data\")\n",
    "test_data = load_public_test_csv(\"data\")\n",
    "\n",
    "df = pd.DataFrame(train_data)\n",
    "df = df.pivot(index='user_id', columns='question_id')\n",
    "train_data_matrix = df.to_numpy()"
   ],
   "metadata": {
    "collapsed": false
   }
  },
  {
   "cell_type": "code",
   "execution_count": 5,
   "outputs": [
    {
     "name": "stdout",
     "output_type": "stream",
     "text": [
      "NLLK: 40535.4024368443 \t Score: 0.503669206886819\n",
      "NLLK: 35676.90131288424 \t Score: 0.6349139147615016\n",
      "NLLK: 34329.472270004204 \t Score: 0.6646909398814564\n",
      "NLLK: 33519.56572569306 \t Score: 0.6804967541631386\n",
      "NLLK: 32940.98295656047 \t Score: 0.6871295512277731\n",
      "NLLK: 32492.965721065295 \t Score: 0.6957380750776179\n",
      "NLLK: 32130.45446323302 \t Score: 0.7006773920406435\n",
      "NLLK: 31829.18726052867 \t Score: 0.7046288456110641\n",
      "NLLK: 31574.352626553715 \t Score: 0.7053344623200677\n",
      "NLLK: 31356.07382152522 \t Score: 0.7056167090036692\n",
      "NLLK: 31167.335281153006 \t Score: 0.7080158058142817\n",
      "NLLK: 31002.92032704735 \t Score: 0.7084391758396839\n",
      "NLLK: 30858.81714114458 \t Score: 0.7090036692068868\n",
      "NLLK: 30731.861827179986 \t Score: 0.7084391758396839\n",
      "NLLK: 30619.510757179618 \t Score: 0.7088625458650861\n",
      "NLLK: 30519.688019271547 \t Score: 0.7077335591306803\n",
      "NLLK: 30430.678937244906 \t Score: 0.707874682472481\n",
      "NLLK: 30351.053217090768 \t Score: 0.7075924357888794\n",
      "NLLK: 30279.607933392137 \t Score: 0.7075924357888794\n",
      "NLLK: 30215.324269457502 \t Score: 0.7070279424216765\n"
     ]
    }
   ],
   "source": [
    "_, _, irt_val, _ = irt(data=train_data_matrix,\n",
    "                                                  val_data=val_data,\n",
    "                                                  lr=0.01,\n",
    "                                                  iterations=20)"
   ],
   "metadata": {
    "collapsed": false
   }
  },
  {
   "cell_type": "code",
   "execution_count": 6,
   "outputs": [
    {
     "ename": "NameError",
     "evalue": "name 'torch' is not defined",
     "output_type": "error",
     "traceback": [
      "\u001B[0;31m---------------------------------------------------------------------------\u001B[0m",
      "\u001B[0;31mNameError\u001B[0m                                 Traceback (most recent call last)",
      "\u001B[0;32m/var/folders/54/6559nwv928s2mg9_mxm8dt0r0000gn/T/ipykernel_55679/1275678475.py\u001B[0m in \u001B[0;36m<module>\u001B[0;34m\u001B[0m\n\u001B[0;32m----> 1\u001B[0;31m \u001B[0mtorch\u001B[0m\u001B[0;34m.\u001B[0m\u001B[0mmanual_seed\u001B[0m\u001B[0;34m(\u001B[0m\u001B[0;36m311\u001B[0m\u001B[0;34m)\u001B[0m\u001B[0;34m\u001B[0m\u001B[0;34m\u001B[0m\u001B[0m\n\u001B[0m\u001B[1;32m      2\u001B[0m \u001B[0mzero_train_matrix\u001B[0m\u001B[0;34m,\u001B[0m \u001B[0mtrain_matrix\u001B[0m\u001B[0;34m,\u001B[0m \u001B[0mvalid_data\u001B[0m\u001B[0;34m,\u001B[0m \u001B[0mtest_data\u001B[0m \u001B[0;34m=\u001B[0m \u001B[0mload_data\u001B[0m\u001B[0;34m(\u001B[0m\u001B[0;34m)\u001B[0m\u001B[0;34m\u001B[0m\u001B[0;34m\u001B[0m\u001B[0m\n\u001B[1;32m      3\u001B[0m \u001B[0mk\u001B[0m \u001B[0;34m=\u001B[0m \u001B[0;36m10\u001B[0m\u001B[0;34m\u001B[0m\u001B[0;34m\u001B[0m\u001B[0m\n\u001B[1;32m      4\u001B[0m \u001B[0mno_question\u001B[0m \u001B[0;34m=\u001B[0m \u001B[0mzero_train_matrix\u001B[0m\u001B[0;34m.\u001B[0m\u001B[0mshape\u001B[0m\u001B[0;34m[\u001B[0m\u001B[0;36m1\u001B[0m\u001B[0;34m]\u001B[0m\u001B[0;34m\u001B[0m\u001B[0;34m\u001B[0m\u001B[0m\n\u001B[1;32m      5\u001B[0m \u001B[0mmodel\u001B[0m \u001B[0;34m=\u001B[0m \u001B[0mAutoEncoder\u001B[0m\u001B[0;34m(\u001B[0m\u001B[0mnum_question\u001B[0m\u001B[0;34m=\u001B[0m\u001B[0mno_question\u001B[0m\u001B[0;34m,\u001B[0m \u001B[0mk\u001B[0m\u001B[0;34m=\u001B[0m\u001B[0mk\u001B[0m\u001B[0;34m)\u001B[0m\u001B[0;34m\u001B[0m\u001B[0;34m\u001B[0m\u001B[0m\n",
      "\u001B[0;31mNameError\u001B[0m: name 'torch' is not defined"
     ]
    }
   ],
   "source": [
    "torch.manual_seed(311)\n",
    "zero_train_matrix, train_matrix, valid_data, test_data = load_data()\n",
    "k = 10\n",
    "no_question = zero_train_matrix.shape[1]\n",
    "model = AutoEncoder(num_question=no_question, k=k)\n",
    "\n",
    "# Set optimization hyperparameters.\n",
    "lr = 0.1\n",
    "num_epoch = 20\n",
    "lamb = 0\n",
    "\n",
    "nn_val = train(model, lr, lamb, train_matrix, zero_train_matrix,\n",
    "          valid_data, num_epoch)"
   ],
   "metadata": {
    "collapsed": false
   }
  }
 ],
 "metadata": {
  "kernelspec": {
   "display_name": "Python 3",
   "language": "python",
   "name": "python3"
  },
  "language_info": {
   "codemirror_mode": {
    "name": "ipython",
    "version": 2
   },
   "file_extension": ".py",
   "mimetype": "text/x-python",
   "name": "python",
   "nbconvert_exporter": "python",
   "pygments_lexer": "ipython2",
   "version": "2.7.6"
  }
 },
 "nbformat": 4,
 "nbformat_minor": 0
}
